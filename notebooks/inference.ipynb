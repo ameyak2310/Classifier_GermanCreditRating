{
 "cells": [
  {
   "attachments": {},
   "cell_type": "markdown",
   "metadata": {},
   "source": [
    "Libraries"
   ]
  },
  {
   "cell_type": "code",
   "execution_count": 1,
   "metadata": {},
   "outputs": [],
   "source": [
    "# Libraries\n",
    "import pandas as pd\n",
    "import numpy as np\n",
    "import matplotlib.pyplot as plt\n",
    "import seaborn as sns\n",
    "\n",
    "import warnings\n",
    "warnings.filterwarnings(\"ignore\")\n",
    "\n",
    "import pickle\n",
    "import os\n",
    "import sys\n",
    "module_path = os.path.abspath(os.path.join('..'))\n",
    "if module_path not in sys.path:\n",
    "    sys.path.append(module_path)"
   ]
  },
  {
   "attachments": {},
   "cell_type": "markdown",
   "metadata": {},
   "source": [
    "Ingestion"
   ]
  },
  {
   "cell_type": "code",
   "execution_count": 2,
   "metadata": {},
   "outputs": [
    {
     "name": "stdout",
     "output_type": "stream",
     "text": [
      "<class 'pandas.core.frame.DataFrame'>\n",
      "RangeIndex: 1000 entries, 0 to 999\n",
      "Data columns (total 15 columns):\n",
      " #   Column             Non-Null Count  Dtype \n",
      "---  ------             --------------  ----- \n",
      " 0   Unnamed: 0         1000 non-null   int64 \n",
      " 1   checkin_acc        1000 non-null   object\n",
      " 2   duration           1000 non-null   int64 \n",
      " 3   credit_history     1000 non-null   object\n",
      " 4   amount             1000 non-null   int64 \n",
      " 5   savings_acc        1000 non-null   object\n",
      " 6   present_emp_since  1000 non-null   object\n",
      " 7   inst_rate          1000 non-null   int64 \n",
      " 8   personal_status    1000 non-null   object\n",
      " 9   residing_since     1000 non-null   int64 \n",
      " 10  age                1000 non-null   int64 \n",
      " 11  inst_plans         1000 non-null   object\n",
      " 12  num_credits        1000 non-null   int64 \n",
      " 13  job                1000 non-null   object\n",
      " 14  status             1000 non-null   int64 \n",
      "dtypes: int64(8), object(7)\n",
      "memory usage: 117.3+ KB\n"
     ]
    }
   ],
   "source": [
    "# Data\n",
    "path = r\"../data/raw/germanCredit.csv\"\n",
    "df_gc = pd.read_csv(path)\n",
    "df = df_gc.copy()\n",
    "df_gc.info()"
   ]
  },
  {
   "attachments": {},
   "cell_type": "markdown",
   "metadata": {},
   "source": [
    "Payload"
   ]
  },
  {
   "cell_type": "code",
   "execution_count": 3,
   "metadata": {},
   "outputs": [],
   "source": [
    "df_check = df[234:235]\n",
    "out = df_check.to_json(orient='records')[1:-1].replace('},{', '} {')\n",
    "with open('../assets/payload.json', 'w') as f:\n",
    "    f.write(out)"
   ]
  },
  {
   "cell_type": "code",
   "execution_count": 14,
   "metadata": {},
   "outputs": [],
   "source": [
    "payload = {\n",
    "  \"Unnamed: 0\": 234,\n",
    "  \"checkin_acc\": \"A14\",\n",
    "  \"duration\": 4,\n",
    "  \"credit_history\": \"A34\",\n",
    "  \"amount\": 1544,\n",
    "  \"savings_acc\": \"A61\",\n",
    "  \"present_emp_since\": \"A74\",\n",
    "  \"inst_rate\": 2,\n",
    "  \"personal_status\": \"A93\",\n",
    "  \"residing_since\": 1,\n",
    "  \"age\": 42,\n",
    "  \"inst_plans\": \"A143\",\n",
    "  \"num_credits\": 3,\n",
    "  \"job\": \"A172\",\n",
    "  \n",
    "}\n",
    "\n",
    "#\"status\": 0"
   ]
  },
  {
   "cell_type": "code",
   "execution_count": 15,
   "metadata": {},
   "outputs": [],
   "source": [
    "data = pd.DataFrame([payload])"
   ]
  },
  {
   "attachments": {},
   "cell_type": "markdown",
   "metadata": {},
   "source": [
    "Encoding"
   ]
  },
  {
   "cell_type": "code",
   "execution_count": 16,
   "metadata": {},
   "outputs": [],
   "source": [
    "with open(\"../bin/oneHotEncoder.bin\", \"rb\") as f_in:\n",
    "    enc = pickle.load(f_in)"
   ]
  },
  {
   "cell_type": "code",
   "execution_count": 17,
   "metadata": {},
   "outputs": [],
   "source": [
    "from src.featureEngineering import encode\n",
    "X_en = encode(data = data,\n",
    "              encoder = enc)"
   ]
  },
  {
   "attachments": {},
   "cell_type": "markdown",
   "metadata": {},
   "source": [
    "Infererence"
   ]
  },
  {
   "cell_type": "code",
   "execution_count": 18,
   "metadata": {},
   "outputs": [],
   "source": [
    "with open(\"../bin/clf_log1.bin\", \"rb\") as f_in:\n",
    "    model = pickle.load(f_in)"
   ]
  },
  {
   "cell_type": "code",
   "execution_count": 23,
   "metadata": {},
   "outputs": [
    {
     "data": {
      "text/plain": [
       "0.9696953078247862"
      ]
     },
     "execution_count": 23,
     "metadata": {},
     "output_type": "execute_result"
    }
   ],
   "source": [
    "y_prob = model.predict_proba(X_en)[0][0]\n",
    "y_prob"
   ]
  },
  {
   "cell_type": "code",
   "execution_count": 25,
   "metadata": {},
   "outputs": [
    {
     "data": {
      "text/plain": [
       "1"
      ]
     },
     "execution_count": 25,
     "metadata": {},
     "output_type": "execute_result"
    }
   ],
   "source": [
    "int(y_prob >= 0.5)"
   ]
  },
  {
   "attachments": {},
   "cell_type": "markdown",
   "metadata": {},
   "source": [
    "Inference fucntion"
   ]
  },
  {
   "cell_type": "code",
   "execution_count": 29,
   "metadata": {},
   "outputs": [
    {
     "data": {
      "text/plain": [
       "{'DECESION': 1, 'PROBABILITY': 0.97}"
      ]
     },
     "execution_count": 29,
     "metadata": {},
     "output_type": "execute_result"
    }
   ],
   "source": [
    "with open(\"../bin/oneHotEncoder.bin\", \"rb\") as f_in:\n",
    "    enc = pickle.load(f_in)\n",
    "\n",
    "with open(\"../bin/clf_log1.bin\", \"rb\") as f_in:\n",
    "    model = pickle.load(f_in)\n",
    "\n",
    "def predict(payload, encoder, model):\n",
    "    data = pd.DataFrame([payload])\n",
    "    X_en = encode(data = data, encoder = enc)\n",
    "\n",
    "    y_prob = model.predict_proba(X_en)[0,0].round(3)\n",
    "    verdict = int(y_prob >= 0.5)\n",
    "\n",
    "    result = {'DECESION': verdict, 'PROBABILITY':y_prob}\n",
    "\n",
    "    return result\n",
    "\n",
    "predict(payload=payload, encoder=enc, model=model)      "
   ]
  }
 ],
 "metadata": {
  "kernelspec": {
   "display_name": "base",
   "language": "python",
   "name": "python3"
  },
  "language_info": {
   "codemirror_mode": {
    "name": "ipython",
    "version": 3
   },
   "file_extension": ".py",
   "mimetype": "text/x-python",
   "name": "python",
   "nbconvert_exporter": "python",
   "pygments_lexer": "ipython3",
   "version": "3.8.10"
  },
  "orig_nbformat": 4,
  "vscode": {
   "interpreter": {
    "hash": "38ea928d456bdec63e5dd5f432d32da5c163b9318090e425cd81ade89acae8e9"
   }
  }
 },
 "nbformat": 4,
 "nbformat_minor": 2
}
