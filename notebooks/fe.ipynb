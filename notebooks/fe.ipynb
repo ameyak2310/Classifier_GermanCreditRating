{
 "cells": [
  {
   "attachments": {},
   "cell_type": "markdown",
   "metadata": {},
   "source": [
    "Libraries"
   ]
  },
  {
   "cell_type": "code",
   "execution_count": 2,
   "metadata": {},
   "outputs": [],
   "source": [
    "# Libraries\n",
    "import pandas as pd\n",
    "import numpy as np\n",
    "import matplotlib.pyplot as plt\n",
    "import seaborn as sns\n",
    "\n",
    "import warnings\n",
    "warnings.filterwarnings(\"ignore\")"
   ]
  },
  {
   "attachments": {},
   "cell_type": "markdown",
   "metadata": {},
   "source": [
    "Data Ingestion"
   ]
  },
  {
   "cell_type": "code",
   "execution_count": 5,
   "metadata": {},
   "outputs": [
    {
     "name": "stdout",
     "output_type": "stream",
     "text": [
      "<class 'pandas.core.frame.DataFrame'>\n",
      "RangeIndex: 1000 entries, 0 to 999\n",
      "Data columns (total 15 columns):\n",
      " #   Column             Non-Null Count  Dtype \n",
      "---  ------             --------------  ----- \n",
      " 0   Unnamed: 0         1000 non-null   int64 \n",
      " 1   checkin_acc        1000 non-null   object\n",
      " 2   duration           1000 non-null   int64 \n",
      " 3   credit_history     1000 non-null   object\n",
      " 4   amount             1000 non-null   int64 \n",
      " 5   savings_acc        1000 non-null   object\n",
      " 6   present_emp_since  1000 non-null   object\n",
      " 7   inst_rate          1000 non-null   int64 \n",
      " 8   personal_status    1000 non-null   object\n",
      " 9   residing_since     1000 non-null   int64 \n",
      " 10  age                1000 non-null   int64 \n",
      " 11  inst_plans         1000 non-null   object\n",
      " 12  num_credits        1000 non-null   int64 \n",
      " 13  job                1000 non-null   object\n",
      " 14  status             1000 non-null   int64 \n",
      "dtypes: int64(8), object(7)\n",
      "memory usage: 117.3+ KB\n"
     ]
    }
   ],
   "source": [
    "# Data\n",
    "path = r\"../data/raw/germanCredit.csv\"\n",
    "df_gc = pd.read_csv(path)\n",
    "df = df_gc.copy()\n",
    "df_gc.info()"
   ]
  },
  {
   "attachments": {},
   "cell_type": "markdown",
   "metadata": {},
   "source": [
    "Feature Count"
   ]
  },
  {
   "cell_type": "code",
   "execution_count": 6,
   "metadata": {},
   "outputs": [
    {
     "data": {
      "text/html": [
       "<div>\n",
       "<style scoped>\n",
       "    .dataframe tbody tr th:only-of-type {\n",
       "        vertical-align: middle;\n",
       "    }\n",
       "\n",
       "    .dataframe tbody tr th {\n",
       "        vertical-align: top;\n",
       "    }\n",
       "\n",
       "    .dataframe thead th {\n",
       "        text-align: right;\n",
       "    }\n",
       "</style>\n",
       "<table border=\"1\" class=\"dataframe\">\n",
       "  <thead>\n",
       "    <tr style=\"text-align: right;\">\n",
       "      <th></th>\n",
       "      <th>FEATURE</th>\n",
       "      <th>COUNT</th>\n",
       "      <th>UNIQUE_VALUES</th>\n",
       "    </tr>\n",
       "  </thead>\n",
       "  <tbody>\n",
       "    <tr>\n",
       "      <th>0</th>\n",
       "      <td>Unnamed: 0</td>\n",
       "      <td>1000</td>\n",
       "      <td>[0, 1, 2, 3, 4, 5, 6, 7, 8, 9, 10, 11, 12, 13,...</td>\n",
       "    </tr>\n",
       "    <tr>\n",
       "      <th>1</th>\n",
       "      <td>checkin_acc</td>\n",
       "      <td>4</td>\n",
       "      <td>[A11, A12, A14, A13]</td>\n",
       "    </tr>\n",
       "    <tr>\n",
       "      <th>2</th>\n",
       "      <td>duration</td>\n",
       "      <td>33</td>\n",
       "      <td>[6, 48, 12, 42, 24, 36, 30, 15, 9, 10, 7, 60, ...</td>\n",
       "    </tr>\n",
       "    <tr>\n",
       "      <th>3</th>\n",
       "      <td>credit_history</td>\n",
       "      <td>5</td>\n",
       "      <td>[A34, A32, A33, A30, A31]</td>\n",
       "    </tr>\n",
       "    <tr>\n",
       "      <th>4</th>\n",
       "      <td>amount</td>\n",
       "      <td>921</td>\n",
       "      <td>[1169, 5951, 2096, 7882, 4870, 9055, 2835, 694...</td>\n",
       "    </tr>\n",
       "    <tr>\n",
       "      <th>5</th>\n",
       "      <td>savings_acc</td>\n",
       "      <td>5</td>\n",
       "      <td>[A65, A61, A63, A64, A62]</td>\n",
       "    </tr>\n",
       "    <tr>\n",
       "      <th>6</th>\n",
       "      <td>present_emp_since</td>\n",
       "      <td>5</td>\n",
       "      <td>[A75, A73, A74, A71, A72]</td>\n",
       "    </tr>\n",
       "    <tr>\n",
       "      <th>7</th>\n",
       "      <td>inst_rate</td>\n",
       "      <td>4</td>\n",
       "      <td>[4, 2, 3, 1]</td>\n",
       "    </tr>\n",
       "    <tr>\n",
       "      <th>8</th>\n",
       "      <td>personal_status</td>\n",
       "      <td>4</td>\n",
       "      <td>[A93, A92, A91, A94]</td>\n",
       "    </tr>\n",
       "    <tr>\n",
       "      <th>9</th>\n",
       "      <td>residing_since</td>\n",
       "      <td>4</td>\n",
       "      <td>[4, 2, 3, 1]</td>\n",
       "    </tr>\n",
       "    <tr>\n",
       "      <th>10</th>\n",
       "      <td>age</td>\n",
       "      <td>53</td>\n",
       "      <td>[67, 22, 49, 45, 53, 35, 61, 28, 25, 24, 60, 3...</td>\n",
       "    </tr>\n",
       "    <tr>\n",
       "      <th>11</th>\n",
       "      <td>inst_plans</td>\n",
       "      <td>3</td>\n",
       "      <td>[A143, A141, A142]</td>\n",
       "    </tr>\n",
       "    <tr>\n",
       "      <th>12</th>\n",
       "      <td>num_credits</td>\n",
       "      <td>4</td>\n",
       "      <td>[2, 1, 3, 4]</td>\n",
       "    </tr>\n",
       "    <tr>\n",
       "      <th>13</th>\n",
       "      <td>job</td>\n",
       "      <td>4</td>\n",
       "      <td>[A173, A172, A174, A171]</td>\n",
       "    </tr>\n",
       "    <tr>\n",
       "      <th>14</th>\n",
       "      <td>status</td>\n",
       "      <td>2</td>\n",
       "      <td>[0, 1]</td>\n",
       "    </tr>\n",
       "  </tbody>\n",
       "</table>\n",
       "</div>"
      ],
      "text/plain": [
       "              FEATURE  COUNT  \\\n",
       "0          Unnamed: 0   1000   \n",
       "1         checkin_acc      4   \n",
       "2            duration     33   \n",
       "3      credit_history      5   \n",
       "4              amount    921   \n",
       "5         savings_acc      5   \n",
       "6   present_emp_since      5   \n",
       "7           inst_rate      4   \n",
       "8     personal_status      4   \n",
       "9      residing_since      4   \n",
       "10                age     53   \n",
       "11         inst_plans      3   \n",
       "12        num_credits      4   \n",
       "13                job      4   \n",
       "14             status      2   \n",
       "\n",
       "                                        UNIQUE_VALUES  \n",
       "0   [0, 1, 2, 3, 4, 5, 6, 7, 8, 9, 10, 11, 12, 13,...  \n",
       "1                                [A11, A12, A14, A13]  \n",
       "2   [6, 48, 12, 42, 24, 36, 30, 15, 9, 10, 7, 60, ...  \n",
       "3                           [A34, A32, A33, A30, A31]  \n",
       "4   [1169, 5951, 2096, 7882, 4870, 9055, 2835, 694...  \n",
       "5                           [A65, A61, A63, A64, A62]  \n",
       "6                           [A75, A73, A74, A71, A72]  \n",
       "7                                        [4, 2, 3, 1]  \n",
       "8                                [A93, A92, A91, A94]  \n",
       "9                                        [4, 2, 3, 1]  \n",
       "10  [67, 22, 49, 45, 53, 35, 61, 28, 25, 24, 60, 3...  \n",
       "11                                 [A143, A141, A142]  \n",
       "12                                       [2, 1, 3, 4]  \n",
       "13                           [A173, A172, A174, A171]  \n",
       "14                                             [0, 1]  "
      ]
     },
     "execution_count": 6,
     "metadata": {},
     "output_type": "execute_result"
    }
   ],
   "source": [
    "df_categories = {'FEATURE' : [],\n",
    "                 'COUNT' : [],\n",
    "                 'UNIQUE_VALUES' : [],\n",
    "                 }\n",
    "\n",
    "for feature in df.columns:\n",
    "    df_categories['FEATURE'].append(feature)\n",
    "    df_categories['UNIQUE_VALUES'].append(df[feature].unique())\n",
    "    df_categories['COUNT'].append(len(df[feature].unique()))\n",
    "\n",
    "pd.DataFrame(df_categories)"
   ]
  },
  {
   "cell_type": "code",
   "execution_count": 7,
   "metadata": {},
   "outputs": [],
   "source": [
    "features_categorical = ['checkin_acc', 'credit_history',\n",
    "       'savings_acc', 'present_emp_since', 'inst_rate', 'personal_status',\n",
    "       'residing_since', 'inst_plans', 'num_credits', 'job',]\n",
    "\n",
    "features_neumerical = ['duration', 'amount', 'age',]\n",
    "\n",
    "target = ['status']"
   ]
  },
  {
   "attachments": {},
   "cell_type": "markdown",
   "metadata": {},
   "source": [
    "Encoder Binary"
   ]
  },
  {
   "cell_type": "code",
   "execution_count": 8,
   "metadata": {},
   "outputs": [],
   "source": [
    "from sklearn.preprocessing import OneHotEncoder\n",
    "\n",
    "X_cat = df[features_categorical]\n",
    "enc = OneHotEncoder()\n",
    "enc = enc.fit(X_cat)\n",
    "X_cat_en = enc.transform(X_cat)"
   ]
  },
  {
   "attachments": {},
   "cell_type": "markdown",
   "metadata": {},
   "source": [
    "Encoder Function"
   ]
  },
  {
   "cell_type": "code",
   "execution_count": 9,
   "metadata": {},
   "outputs": [],
   "source": [
    "def encode(data, X_cat, X_num, encoder):\n",
    "    X_num = data[X_num]\n",
    "    X_cat = data[X_cat]\n",
    "    X_cat_en = pd.DataFrame(data = encoder.transform(X_cat).toarray(), \n",
    "                            columns= encoder.get_feature_names_out())\n",
    "    X_en = pd.concat([X_num, X_cat_en], axis=1)\n",
    "    return X_en\n",
    "\n",
    "X_en = encode(data=df,\n",
    "            X_cat=features_categorical,\n",
    "            X_num=features_neumerical,\n",
    "            encoder=enc)\n"
   ]
  },
  {
   "cell_type": "code",
   "execution_count": 10,
   "metadata": {},
   "outputs": [],
   "source": [
    "import pickle\n",
    "with open('../bin/oneHotEncoder.bin', 'wb') as f_out:\n",
    "    pickle.dump(enc, f_out)"
   ]
  }
 ],
 "metadata": {
  "kernelspec": {
   "display_name": "base",
   "language": "python",
   "name": "python3"
  },
  "language_info": {
   "codemirror_mode": {
    "name": "ipython",
    "version": 3
   },
   "file_extension": ".py",
   "mimetype": "text/x-python",
   "name": "python",
   "nbconvert_exporter": "python",
   "pygments_lexer": "ipython3",
   "version": "3.8.10"
  },
  "orig_nbformat": 4,
  "vscode": {
   "interpreter": {
    "hash": "38ea928d456bdec63e5dd5f432d32da5c163b9318090e425cd81ade89acae8e9"
   }
  }
 },
 "nbformat": 4,
 "nbformat_minor": 2
}
